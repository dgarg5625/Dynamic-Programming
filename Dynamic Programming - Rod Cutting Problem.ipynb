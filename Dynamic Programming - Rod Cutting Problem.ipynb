{
 "cells": [
  {
   "cell_type": "code",
   "execution_count": 2,
   "metadata": {},
   "outputs": [],
   "source": [
    "p = [1,5,8,9,10,17,17,20,24,30]\n",
    "n = 10"
   ]
  },
  {
   "cell_type": "markdown",
   "metadata": {},
   "source": [
    "#### Recursive Approach"
   ]
  },
  {
   "cell_type": "code",
   "execution_count": 4,
   "metadata": {},
   "outputs": [
    {
     "data": {
      "text/plain": [
       "30"
      ]
     },
     "execution_count": 4,
     "metadata": {},
     "output_type": "execute_result"
    }
   ],
   "source": [
    "def rod_cut(p,n):\n",
    "    \n",
    "    if n==0:\n",
    "        return 0\n",
    "    \n",
    "    q = -float(\"inf\")\n",
    "    for i in range(n):\n",
    "        q = max(q,p[i]+rod_cut(p,n-i-1))\n",
    "        \n",
    "    return q\n",
    "    \n",
    "    \n",
    "    \n",
    "\n",
    "rod_cut(p,n)"
   ]
  },
  {
   "cell_type": "markdown",
   "metadata": {},
   "source": [
    "#### Memoized Rod Cutting "
   ]
  },
  {
   "cell_type": "code",
   "execution_count": 31,
   "metadata": {},
   "outputs": [
    {
     "data": {
      "text/plain": [
       "30"
      ]
     },
     "execution_count": 31,
     "metadata": {},
     "output_type": "execute_result"
    }
   ],
   "source": [
    "def mem_rod_cut(p,n,r):\n",
    "    if r[n]>0:\n",
    "        return r[n]\n",
    "    \n",
    "    if n==0:\n",
    "        return 0\n",
    "    \n",
    "    q = -float(\"inf\")\n",
    "    for i in range(1,n+1):\n",
    "        q = max(q,p[i]+mem_rod_cut(p,n-i,r))\n",
    "        \n",
    "    r[n]=q    \n",
    "    return q\n",
    "\n",
    "p = [0,1,5,8,9,10,17,17,20,24,30]\n",
    "n=10\n",
    "r = [0]*(n+1)\n",
    "mem_rod_cut(p,n,r)"
   ]
  },
  {
   "cell_type": "markdown",
   "metadata": {},
   "source": [
    "#### Bottom Up Approach"
   ]
  },
  {
   "cell_type": "code",
   "execution_count": 70,
   "metadata": {},
   "outputs": [
    {
     "data": {
      "text/plain": [
       "30"
      ]
     },
     "execution_count": 70,
     "metadata": {},
     "output_type": "execute_result"
    }
   ],
   "source": [
    "def bot_rod_cut(p,n,r):\n",
    "    r[0]=0\n",
    "        \n",
    "    for i in range(1,n+1):\n",
    "        q = -float(\"inf\")\n",
    "        for j in range(1,i+1):\n",
    "            q = max(q,p[j]+r[i-j])\n",
    "        r[i]=q    \n",
    "        \n",
    "    return r\n",
    "    \n",
    "    \n",
    "    \n",
    "p = [0,1,5,8,9,10,17,17,20,24,30]\n",
    "n=10\n",
    "r = [0]*(n+1)\n",
    "bot_rod_cut(p,n,r)    \n",
    "r[-1]"
   ]
  },
  {
   "cell_type": "code",
   "execution_count": null,
   "metadata": {},
   "outputs": [],
   "source": []
  },
  {
   "cell_type": "code",
   "execution_count": null,
   "metadata": {},
   "outputs": [],
   "source": []
  },
  {
   "cell_type": "code",
   "execution_count": null,
   "metadata": {},
   "outputs": [],
   "source": []
  },
  {
   "cell_type": "code",
   "execution_count": null,
   "metadata": {},
   "outputs": [],
   "source": [
    "\n",
    "    "
   ]
  },
  {
   "cell_type": "code",
   "execution_count": null,
   "metadata": {},
   "outputs": [],
   "source": []
  }
 ],
 "metadata": {
  "kernelspec": {
   "display_name": "Python 3",
   "language": "python",
   "name": "python3"
  },
  "language_info": {
   "codemirror_mode": {
    "name": "ipython",
    "version": 3
   },
   "file_extension": ".py",
   "mimetype": "text/x-python",
   "name": "python",
   "nbconvert_exporter": "python",
   "pygments_lexer": "ipython3",
   "version": "3.7.6"
  }
 },
 "nbformat": 4,
 "nbformat_minor": 2
}
